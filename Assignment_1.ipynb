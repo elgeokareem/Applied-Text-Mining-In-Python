{
 "cells": [
  {
   "cell_type": "markdown",
   "metadata": {},
   "source": [
    "---\n",
    "\n",
    "_You are currently looking at **version 1.1** of this notebook. To download notebooks and datafiles, as well as get help on Jupyter notebooks in the Coursera platform, visit the [Jupyter Notebook FAQ](https://www.coursera.org/learn/python-text-mining/resources/d9pwm) course resource._\n",
    "\n",
    "---"
   ]
  },
  {
   "cell_type": "markdown",
   "metadata": {},
   "source": [
    "# Assignment 1\n",
    "\n",
    "In this assignment, you'll be working with messy medical data and using regex to extract relevant infromation from the data. \n",
    "\n",
    "Each line of the `dates.txt` file corresponds to a medical note. Each note has a date that needs to be extracted, but each date is encoded in one of many formats.\n",
    "\n",
    "The goal of this assignment is to correctly identify all of the different date variants encoded in this dataset and to properly normalize and sort the dates. \n",
    "\n",
    "Here is a list of some of the variants you might encounter in this dataset:\n",
    "* 04/20/2009; 04/20/09; 4/20/09; 4/3/09\n",
    "* Mar-20-2009; Mar 20, 2009; March 20, 2009;  Mar. 20, 2009; Mar 20 2009;\n",
    "* 20 Mar 2009; 20 March 2009; 20 Mar. 2009; 20 March, 2009\n",
    "* Mar 20th, 2009; Mar 21st, 2009; Mar 22nd, 2009\n",
    "* Feb 2009; Sep 2009; Oct 2010\n",
    "* 6/2008; 12/2009\n",
    "* 2009; 2010\n",
    "\n",
    "Once you have extracted these date patterns from the text, the next step is to sort them in ascending chronological order accoring to the following rules:\n",
    "* Assume all dates in xx/xx/xx format are mm/dd/yy\n",
    "* Assume all dates where year is encoded in only two digits are years from the 1900's (e.g. 1/5/89 is January 5th, 1989)\n",
    "* If the day is missing (e.g. 9/2009), assume it is the first day of the month (e.g. September 1, 2009).\n",
    "* If the month is missing (e.g. 2010), assume it is the first of January of that year (e.g. January 1, 2010).\n",
    "* Watch out for potential typos as this is a raw, real-life derived dataset.\n",
    "\n",
    "With these rules in mind, find the correct date in each note and return a pandas Series in chronological order of the original Series' indices.\n",
    "\n",
    "For example if the original series was this:\n",
    "\n",
    "    0    1999\n",
    "    1    2010\n",
    "    2    1978\n",
    "    3    2015\n",
    "    4    1985\n",
    "\n",
    "Your function should return this:\n",
    "\n",
    "    0    2\n",
    "    1    4\n",
    "    2    0\n",
    "    3    1\n",
    "    4    3\n",
    "\n",
    "Your score will be calculated using [Kendall's tau](https://en.wikipedia.org/wiki/Kendall_rank_correlation_coefficient), a correlation measure for ordinal data.\n",
    "\n",
    "*This function should return a Series of length 500 and dtype int.*"
   ]
  },
  {
   "cell_type": "code",
   "execution_count": 1,
   "metadata": {},
   "outputs": [
    {
     "data": {
      "text/plain": [
       "0                        03/25/93 Total time of visit (in minutes):\\n\n",
       "1                                      6/18/85 Primary Care Doctor:\\n\n",
       "2            sshe plans to move as of 7/8/71 In-Home Services: None\\n\n",
       "3                               7 on 9/27/75 Audit C Score Current:\\n\n",
       "4    2/6/96 sleep studyPain Treatment Pain Level (Numeric Scale): 7\\n\n",
       "5                                   .Per 7/06/79 Movement D/O note:\\n\n",
       "6      4, 5/18/78 Patient's thoughts about current substance abuse:\\n\n",
       "7        10/24/89 CPT Code: 90801 - Psychiatric Diagnosis Interview\\n\n",
       "8                                        3/7/86 SOS-10 Total Score:\\n\n",
       "9                            (4/10/71)Score-1Audit C Score Current:\\n\n",
       "dtype: object"
      ]
     },
     "execution_count": 1,
     "metadata": {},
     "output_type": "execute_result"
    }
   ],
   "source": [
    "import pandas as pd\n",
    "pd.options.display.max_colwidth = 500\n",
    "\n",
    "doc = []\n",
    "with open('dates.txt') as file:\n",
    "    for line in file:\n",
    "        doc.append(line)\n",
    "\n",
    "df = pd.Series(doc)\n",
    "df.head(10)"
   ]
  },
  {
   "cell_type": "code",
   "execution_count": 2,
   "metadata": {
    "collapsed": true,
    "scrolled": true
   },
   "outputs": [],
   "source": [
    "import re\n",
    "from datetime import datetime as dt\n",
    "#len(a1)+len(a2)+len(a3)+len(a4)+len(a5)+len(a6)\n",
    "#Para verificar elementos repetidos\n",
    "#para ampliar la vista de columnas en la consola \n",
    "pd.set_option('display.max_rows', 501)\n",
    "\"\"\"\n",
    "dic = {}\n",
    "for x in a12356_index:\n",
    "    dic[x] = dic.get(x,0)+1\n",
    "        \n",
    "for x,y in dic.items():\n",
    "    if y>1: print(x,y)\n",
    "\"\"\"\n",
    "\n",
    "meses = {\"Jan\":1, \"Feb\":2, \"Mar\":3, \"Apr\":4, \"May\":5, \"Jun\":6, \"Jul\":7, \"Aug\":8, \"Sep\":9, \"Oct\":10, \"Nov\":11, \"Dec\":12}\n",
    "\n",
    "def ciclo(actual,comp):\n",
    "    a = []\n",
    "    for x in actual:\n",
    "        if x in comp.values: continue\n",
    "        a.append(x)\n",
    "    a = pd.Series(a)\n",
    "    return a\n",
    "\n",
    "def date_sorter():\n",
    "    \n",
    "    #04/20/2009; 04/20/09; 4/20/09; 4/3/09; \n",
    "    a1 = df.str.extractall(r\"((\\d{1,2})[/-](\\d{1,2})[/-](\\d{2}|\\d{4})\\b)\")\n",
    "    a1.reset_index(inplace=True); a1.set_index(\"level_0\", inplace=True)\n",
    "    a1_index = a1.reset_index().loc[:,\"level_0\"]\n",
    "    \n",
    "    #Mar 20, 2009; March 20, 2009; Mar. 20, 2009; Mar 20 2009; Mar-20-2009;\n",
    "    a2 = df.str.extractall(r\"((?:(Jan|Feb|Mar|Apr|May|Jun|Jul|Aug|Sep|Oct|Nov|Dec)\\w*[-.]* )(\\d{1,2}[-,]* )(\\d{2,4}))\")\n",
    "    a2.reset_index(inplace=True); a2.set_index(\"level_0\", inplace=True)\n",
    "    a2_index = a2.reset_index().loc[:,\"level_0\"]\n",
    "    a12_index = a2_index.append(a1_index)\n",
    "    \n",
    "    #20 Mar 2009; 20 March 2009; 20 Mar. 2009; 20 March, 2009\n",
    "    #Feb 2009; Sep 2009; Oct 2010\n",
    "    a3 = df.str.extractall(r\"((\\d{1,2} )?(?:(Jan|Feb|Mar|Apr|May|Jun|Jul|Aug|Sep|Oct|Nov|Dec)\\w*[-.,]* )(\\d{2,4}))\")\n",
    "    a3.reset_index(inplace=True); a3.set_index(\"level_0\", inplace=True)\n",
    "    a3_index = a3.reset_index().loc[:,\"level_0\"]\n",
    "    a3_index = ciclo(a3_index,a12_index)\n",
    "    a3 = a3.loc[a3_index]\n",
    "    a123_index = a12_index.append(a3_index) \n",
    "    \n",
    "    #Mar 20th, 2009; Mar 21st, 2009; Mar 22nd, 2009 :::::::  NO existe\n",
    "    a4 = df.str.extractall(r'((?:Jan|Feb|Mar|Apr|May|Jun|Jul|Aug|Sep|Oct|Nov|Dec)[a-z] )((?:\\d{1,2}(?:st|nd|rd|th), )\\d{4})')\n",
    "    \n",
    "    #6/2008; 12/2009\n",
    "    a5 = df.str.extractall(r\"((\\d{1,2})/(\\d{2,4}))\")\n",
    "    a5.reset_index(inplace=True); a5.set_index(\"level_0\", inplace=True)\n",
    "    a5_index = a5.reset_index().loc[:,\"level_0\"]\n",
    "    a5_index = ciclo(a5_index,a123_index)\n",
    "    a5 = a5.loc[a5_index]\n",
    "    a1235_index = a123_index.append(a5_index)\n",
    "    \n",
    "    #2009; 2010\n",
    "    a6 = df.str.extractall(r\"((19[0-9][0-9])|(20[0-9][0-9]))\")\n",
    "    a6.reset_index(inplace=True); a6.set_index(\"level_0\", inplace=True)\n",
    "    a6_index = a6.reset_index().loc[:,\"level_0\"]\n",
    "    a6_index = ciclo(a6_index,a1235_index)\n",
    "    a6 = a6.loc[a6_index]\n",
    "    \n",
    "    #Manejo de los datos\n",
    "    def primero(x):\n",
    "        a = re.split(\"[/-]\", x)\n",
    "        if len(a[2])<4: a[2] = \"19\"+a[2]\n",
    "        a = \"/\".join((a[0],a[1],a[2]))\n",
    "        return a\n",
    "            \n",
    "    a1 = a1[0].apply(lambda x: primero(x))\n",
    "    \n",
    "    def segundo(x, y, z):\n",
    "        a = x.split()\n",
    "        a[0] = str(meses[y])\n",
    "        if len(z)>2: z = z[0:2]\n",
    "        a = \"/\".join((a[0],z,a[2]))\n",
    "        return a\n",
    "        \n",
    "    a2 = a2.apply(lambda row: segundo(row[0],row[1],row[2]), axis=1)\n",
    "    final = a1.append(a2)\n",
    "    \n",
    "    def tercero(x,y,z):\n",
    "        y = str(meses[y])\n",
    "        if len(x)>2: x = x[0:2]\n",
    "        a = y+\"/\"+x+\"/\"+z\n",
    "        return a\n",
    "        \n",
    "    a3 = a3.fillna(\"01\")\n",
    "    a3 = a3.apply(lambda row: tercero(row[1],row[2],row[3]), axis=1)\n",
    "    final = final.append(a3)\n",
    "    \n",
    "    a5 = a5.apply(lambda row: row[1]+\"/01/\"+row[2], axis=1)\n",
    "    final = final.append(a5)\n",
    "    \n",
    "    a6 = a6[0].apply(lambda x: \"01/01/\"+x)\n",
    "    final = final.append(a6)\n",
    "    \n",
    "    final = final.apply(lambda x: dt.strptime(x, \"%m/%d/%Y\"))\n",
    "    final = pd.to_datetime(final)\n",
    "    final.sort_values(inplace=True)\n",
    "    final = pd.Series(final.index)\n",
    "\n",
    "    return final"
   ]
  },
  {
   "cell_type": "code",
   "execution_count": 3,
   "metadata": {},
   "outputs": [
    {
     "name": "stdout",
     "output_type": "stream",
     "text": [
      "\n",
      "INSTALLED VERSIONS\n",
      "------------------\n",
      "commit: None\n",
      "python: 3.6.0.final.0\n",
      "python-bits: 64\n",
      "OS: Linux\n",
      "OS-release: 4.4.0-45-generic\n",
      "machine: x86_64\n",
      "processor: \n",
      "byteorder: little\n",
      "LC_ALL: en_US.UTF-8\n",
      "LANG: en_US.UTF-8\n",
      "LOCALE: en_US.UTF-8\n",
      "\n",
      "pandas: 0.20.1\n",
      "pytest: 3.0.5\n",
      "pip: 9.0.1\n",
      "setuptools: 27.2.0\n",
      "Cython: 0.25.2\n",
      "numpy: 1.11.3\n",
      "scipy: 0.18.1\n",
      "xarray: None\n",
      "IPython: 5.1.0\n",
      "sphinx: 1.5.1\n",
      "patsy: 0.4.1\n",
      "dateutil: 2.6.0\n",
      "pytz: 2016.10\n",
      "blosc: None\n",
      "bottleneck: 1.2.0\n",
      "tables: 3.3.0\n",
      "numexpr: 2.6.1\n",
      "feather: None\n",
      "matplotlib: 2.0.0\n",
      "openpyxl: 2.4.1\n",
      "xlrd: 1.0.0\n",
      "xlwt: 1.2.0\n",
      "xlsxwriter: 0.9.6\n",
      "lxml: 3.7.2\n",
      "bs4: 4.5.3\n",
      "html5lib: None\n",
      "sqlalchemy: 1.1.5\n",
      "pymysql: None\n",
      "psycopg2: None\n",
      "jinja2: 2.9.4\n",
      "s3fs: None\n",
      "pandas_gbq: None\n",
      "pandas_datareader: None\n"
     ]
    }
   ],
   "source": [
    "dir(df)\n",
    "pd.show_versions()"
   ]
  },
  {
   "cell_type": "code",
   "execution_count": null,
   "metadata": {
    "collapsed": true
   },
   "outputs": [],
   "source": []
  },
  {
   "cell_type": "code",
   "execution_count": null,
   "metadata": {
    "collapsed": true
   },
   "outputs": [],
   "source": []
  },
  {
   "cell_type": "code",
   "execution_count": null,
   "metadata": {
    "collapsed": true
   },
   "outputs": [],
   "source": []
  },
  {
   "cell_type": "code",
   "execution_count": null,
   "metadata": {
    "collapsed": true
   },
   "outputs": [],
   "source": []
  },
  {
   "cell_type": "code",
   "execution_count": null,
   "metadata": {
    "collapsed": true
   },
   "outputs": [],
   "source": []
  },
  {
   "cell_type": "code",
   "execution_count": null,
   "metadata": {
    "collapsed": true
   },
   "outputs": [],
   "source": []
  },
  {
   "cell_type": "code",
   "execution_count": null,
   "metadata": {
    "collapsed": true
   },
   "outputs": [],
   "source": []
  },
  {
   "cell_type": "code",
   "execution_count": null,
   "metadata": {
    "collapsed": true
   },
   "outputs": [],
   "source": []
  }
 ],
 "metadata": {
  "coursera": {
   "course_slug": "python-text-mining",
   "graded_item_id": "LvcWI",
   "launcher_item_id": "krne9",
   "part_id": "Mkp1I"
  },
  "kernelspec": {
   "display_name": "Python 3",
   "language": "python",
   "name": "python3"
  },
  "language_info": {
   "codemirror_mode": {
    "name": "ipython",
    "version": 3
   },
   "file_extension": ".py",
   "mimetype": "text/x-python",
   "name": "python",
   "nbconvert_exporter": "python",
   "pygments_lexer": "ipython3",
   "version": "3.6.2"
  }
 },
 "nbformat": 4,
 "nbformat_minor": 2
}
